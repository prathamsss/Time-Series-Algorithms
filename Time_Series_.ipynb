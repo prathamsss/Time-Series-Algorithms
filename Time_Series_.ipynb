{
  "nbformat": 4,
  "nbformat_minor": 0,
  "metadata": {
    "colab": {
      "name": "Time Series .ipynb",
      "provenance": []
    },
    "kernelspec": {
      "name": "python3",
      "display_name": "Python 3"
    }
  },
  "cells": [
    {
      "cell_type": "markdown",
      "metadata": {
        "id": "sfUEuW0T9v7a",
        "colab_type": "text"
      },
      "source": [
        "### ***AR & ARIMA Model For Predictions***\n",
        "\n",
        "\n",
        "\n",
        "\n",
        "\n",
        "\n",
        "\n"
      ]
    },
    {
      "cell_type": "markdown",
      "metadata": {
        "id": "9bhnFE5594Yt",
        "colab_type": "text"
      },
      "source": [
        "\n",
        "-Prathamesh Sardeshmukh"
      ]
    },
    {
      "cell_type": "code",
      "metadata": {
        "id": "vf19q89liXR9",
        "colab_type": "code",
        "outputId": "1f53051a-4f42-4f5d-e78d-a10373f54700",
        "colab": {
          "base_uri": "https://localhost:8080/",
          "height": 334
        }
      },
      "source": [
        "from pandas import datetime\n",
        "import pandas as pd\n",
        "import matplotlib.pyplot as plt\n",
        "\n",
        "path=\"/content/drive/My Drive/ML codes/Time series/Dataset/datatest2.csv\"          # Path of csv file location\n",
        "def parser(x):\n",
        "  return datetime.strptime(x,'%m/%d/%Y %H:%M')                                      # Mention dates and time formate eg 21/12/2013 as. %m/%d/%Y %H:%M \n",
        "\n",
        "mydata = pd.read_csv(path, index_col=0, parse_dates=[0] ,date_parser=parser)       #. index_col=0,  remian\n",
        "mydata.head()\n",
        "mydata.plot()\n",
        "print(\"Dataset Graph\")"
      ],
      "execution_count": 0,
      "outputs": [
        {
          "output_type": "stream",
          "text": [
            "/usr/local/lib/python3.6/dist-packages/ipykernel_launcher.py:7: FutureWarning: The pandas.datetime class is deprecated and will be removed from pandas in a future version. Import from datetime instead.\n",
            "  import sys\n"
          ],
          "name": "stderr"
        },
        {
          "output_type": "stream",
          "text": [
            "Dataset Graph\n"
          ],
          "name": "stdout"
        },
        {
          "output_type": "display_data",
          "data": {
            "image/png": "[encoded data removed]",
            "text/plain": [
              "<Figure size 432x288 with 1 Axes>"
            ]
          },
          "metadata": {
            "tags": []
          }
        }
      ]
    },
    {
      "cell_type": "markdown",
      "metadata": {
        "id": "63XbXU3y-0ks",
        "colab_type": "text"
      },
      "source": [
        "# *Spliting data into Training and testing*\n",
        "\n",
        "\n"
      ]
    },
    {
      "cell_type": "markdown",
      "metadata": {
        "id": "iDZRKw84_hSc",
        "colab_type": "text"
      },
      "source": [
        "[:1601] indicates data is selected from 0 to 1601\n",
        "\n",
        "[1601:1944] indicates data is selected 1601  to 1944\n",
        "\n",
        "[1601:] indicates data is selected from 1601 to end\n",
        "\n"
      ]
    },
    {
      "cell_type": "code",
      "metadata": {
        "id": "Cj-7ENUdtko2",
        "colab_type": "code",
        "outputId": "c1799967-21f8-4c40-cfed-86a05ea38028",
        "colab": {
          "base_uri": "https://localhost:8080/",
          "height": 247
        }
      },
      "source": [
        "\n",
        "X= mydata['Temperature']\n",
        "\n",
        "train= X[:6826]     #Fist1600 for train x\n",
        "test = X[6826:]    # 343 for test \n",
        "\n",
        "predictions_AR =[]\n",
        "print(\"Total data points = \",X)\n",
        "len(X)"
      ],
      "execution_count": 0,
      "outputs": [
        {
          "output_type": "stream",
          "text": [
            "Total data points =  date\n",
            "2015-02-11 14:48:00    21.7600\n",
            "2015-02-11 14:49:00    21.7900\n",
            "2015-02-11 14:50:00    21.7675\n",
            "2015-02-11 14:51:00    21.7675\n",
            "2015-02-11 14:51:00    21.7900\n",
            "                        ...   \n",
            "2015-02-18 09:15:00    20.8150\n",
            "2015-02-18 09:16:00    20.8650\n",
            "2015-02-18 09:16:00    20.8900\n",
            "2015-02-18 09:17:00    20.8900\n",
            "2015-02-18 09:19:00    21.0000\n",
            "Name: Temperature, Length: 9752, dtype: float64\n"
          ],
          "name": "stdout"
        },
        {
          "output_type": "execute_result",
          "data": {
            "text/plain": [
              "9752"
            ]
          },
          "metadata": {
            "tags": []
          },
          "execution_count": 2
        }
      ]
    },
    {
      "cell_type": "markdown",
      "metadata": {
        "id": "ZAi3RjpM_2n7",
        "colab_type": "text"
      },
      "source": [
        "### ***                                       *AR model***"
      ]
    },
    {
      "cell_type": "code",
      "metadata": {
        "id": "7z9dZZGNrGeb",
        "colab_type": "code",
        "outputId": "d56605b0-d2ab-447b-d9b9-c8af2242e8b7",
        "colab": {
          "base_uri": "https://localhost:8080/",
          "height": 660
        }
      },
      "source": [
        "# AR Model\n",
        "from statsmodels.tsa.ar_model import AR\n",
        "from sklearn.metrics import mean_squared_error\n",
        "model_ar = AR(train)\n",
        "model_ar_fit = model_ar.fit()\n",
        "model_ar_fit.save('model_AR.pkl')\n",
        "predictions_AR = model_ar_fit.predict(start=6826,end=9751)\n",
        "print(\"Predictions = \\n\",predictions_AR[:10])\n",
        "print(\"\\n\")\n",
        "print(\"Test = \\n\",test[:10])\n",
        "\n",
        "# Accuracy calculation\n",
        "\n",
        "from sklearn.metrics import accuracy_score,r2_score\n",
        "import sklearn\n",
        "print(\"\\n\\n\\n\")\n",
        "rmse= mean_squared_error(test, predictions_AR)\n",
        "print(\"Root mean square  for AR =\\t\\t\",rmse)\n",
        "y_true=test\n",
        "y_pred=predictions_AR\n",
        "r2sq = r2_score(test, predictions_AR, sample_weight=None, multioutput='uniform_average')\n",
        "print(\"R square  for AR = \\t\\t\\t\",r2sq)"
      ],
      "execution_count": 0,
      "outputs": [
        {
          "output_type": "stream",
          "text": [
            "/usr/local/lib/python3.6/dist-packages/statsmodels/tools/_testing.py:19: FutureWarning: pandas.util.testing is deprecated. Use the functions in the public API at pandas.testing instead.\n",
            "  import pandas.util.testing as tm\n"
          ],
          "name": "stderr"
        },
        {
          "output_type": "stream",
          "text": [
            "Predictions = \n",
            " 6826    20.397987\n",
            "6827    20.399393\n",
            "6828    20.398920\n",
            "6829    20.398052\n",
            "6830    20.398950\n",
            "6831    20.399825\n",
            "6832    20.401416\n",
            "6833    20.401804\n",
            "6834    20.399807\n",
            "6835    20.401656\n",
            "dtype: float64\n",
            "\n",
            "\n",
            "Test = \n",
            " date\n",
            "2015-02-16 08:34:00    20.390000\n",
            "2015-02-16 08:35:00    20.390000\n",
            "2015-02-16 08:36:00    20.390000\n",
            "2015-02-16 08:37:00    20.390000\n",
            "2015-02-16 08:38:00    20.390000\n",
            "2015-02-16 08:38:00    20.390000\n",
            "2015-02-16 08:39:00    20.426667\n",
            "2015-02-16 08:41:00    20.390000\n",
            "2015-02-16 08:42:00    20.445000\n",
            "2015-02-16 08:43:00    20.500000\n",
            "Name: Temperature, dtype: float64\n",
            "\n",
            "\n",
            "\n",
            "\n",
            "Root mean square  for AR =\t\t 0.48541344575998685\n",
            "R square  for AR = \t\t\t -0.2722832362742651\n"
          ],
          "name": "stdout"
        },
        {
          "output_type": "stream",
          "text": [
            "/usr/local/lib/python3.6/dist-packages/statsmodels/tsa/base/tsa_model.py:219: ValueWarning: A date index has been provided, but it has no associated frequency information and so will be ignored when e.g. forecasting.\n",
            "  ' ignored when e.g. forecasting.', ValueWarning)\n",
            "/usr/local/lib/python3.6/dist-packages/statsmodels/tsa/base/tsa_model.py:576: ValueWarning: No supported index is available. Prediction results will be given with an integer index beginning at `start`.\n",
            "  ValueWarning)\n"
          ],
          "name": "stderr"
        }
      ]
    },
    {
      "cell_type": "markdown",
      "metadata": {
        "id": "CLtjzDCgCevq",
        "colab_type": "text"
      },
      "source": [
        "# Note : \n",
        "# **R^2 (Ideal value = 1)**\n",
        "\n",
        "Best possible score is ***1.0***. A constant model that always predicts the expected value of y, disregarding the input features, would get a R^2 score of 0.0.\n",
        "# **RMSE. (Ideal Value should be low ~ 0)** bold text\n",
        "The RMSE is the square root of the variance of the residuals. It indicates the absolute fit of the model to the data–how close the observed data points are to the model's predicted values. Whereas R-squared is a relative measure of fit, RMSE is an absolute measure of fit. ... Lower values of RMSE indicate better fit."
      ]
    },
    {
      "cell_type": "markdown",
      "metadata": {
        "id": "yr-FGMwlEJ4h",
        "colab_type": "text"
      },
      "source": [
        "### *** *ARIMA Model***\n",
        "\n",
        "\n"
      ]
    },
    {
      "cell_type": "markdown",
      "metadata": {
        "id": "gCxNHr6VDXMe",
        "colab_type": "text"
      },
      "source": [
        ""
      ]
    },
    {
      "cell_type": "code",
      "metadata": {
        "id": "3FNvGXSqxbo8",
        "colab_type": "code",
        "outputId": "0e1930ee-8ce4-4c25-f913-6a70dc68760e",
        "colab": {
          "base_uri": "https://localhost:8080/",
          "height": 99
        }
      },
      "source": [
        "# ARIMA\n",
        "from statsmodels.tsa.arima_model import ARIMA\n",
        "#p,d,q  p = periods taken for autoregressive model\n",
        "#d -> Integrated order, difference\n",
        "# q periods in moving average model\n",
        "model_arima = ARIMA(train,order=(4,2, 2))\n",
        "model_arima_fit = model_arima.fit()\n",
        "print(\"AIC value = \",model_arima_fit.aic)\n",
        "predictions_arima= model_arima_fit.forecast(steps=2926)[0]\n",
        "#print(\"predictions of arima = \",predictions_arima)\n"
      ],
      "execution_count": 0,
      "outputs": [
        {
          "output_type": "stream",
          "text": [
            "/usr/local/lib/python3.6/dist-packages/statsmodels/tsa/base/tsa_model.py:219: ValueWarning: A date index has been provided, but it has no associated frequency information and so will be ignored when e.g. forecasting.\n",
            "  ' ignored when e.g. forecasting.', ValueWarning)\n",
            "/usr/local/lib/python3.6/dist-packages/statsmodels/tsa/base/tsa_model.py:219: ValueWarning: A date index has been provided, but it has no associated frequency information and so will be ignored when e.g. forecasting.\n",
            "  ' ignored when e.g. forecasting.', ValueWarning)\n"
          ],
          "name": "stderr"
        },
        {
          "output_type": "stream",
          "text": [
            "AIC value =  -28295.81600955467\n"
          ],
          "name": "stdout"
        }
      ]
    },
    {
      "cell_type": "code",
      "metadata": {
        "id": "VfkMaSuNzDpa",
        "colab_type": "code",
        "outputId": "27883a21-9393-42fa-b1cc-246188f52b8e",
        "colab": {
          "base_uri": "https://localhost:8080/",
          "height": 297
        }
      },
      "source": [
        "\n",
        "print(\"Predictions of arima = \\n\",(predictions_arima))\n",
        "\n",
        "print(\"Test data = \\n\",(test))\n"
      ],
      "execution_count": 0,
      "outputs": [
        {
          "output_type": "stream",
          "text": [
            "Predictions of arima = \n",
            " [20.39713383 20.3975715  20.39663187 ... 19.13903503 19.13799829\n",
            " 19.13696114]\n",
            "Test data = \n",
            " date\n",
            "2015-02-16 08:34:00    20.390\n",
            "2015-02-16 08:35:00    20.390\n",
            "2015-02-16 08:36:00    20.390\n",
            "2015-02-16 08:37:00    20.390\n",
            "2015-02-16 08:38:00    20.390\n",
            "                        ...  \n",
            "2015-02-18 09:15:00    20.815\n",
            "2015-02-18 09:16:00    20.865\n",
            "2015-02-18 09:16:00    20.890\n",
            "2015-02-18 09:17:00    20.890\n",
            "2015-02-18 09:19:00    21.000\n",
            "Name: Temperature, Length: 2926, dtype: float64\n"
          ],
          "name": "stdout"
        }
      ]
    },
    {
      "cell_type": "code",
      "metadata": {
        "id": "nlsp1gqk3Jik",
        "colab_type": "code",
        "outputId": "960367f8-0a6d-4050-f421-0cdd6bfa3933",
        "colab": {
          "base_uri": "https://localhost:8080/",
          "height": 49
        }
      },
      "source": [
        "from sklearn.metrics import accuracy_score,r2_score\n",
        "import sklearn\n",
        "y_true=test\n",
        "y_pred=predictions_arima\n",
        "\n",
        "rmse_arima= mean_squared_error(test, predictions_arima)\n",
        "print(\"Root mean square for ARIMA =\\t\\t\",rmse_arima)\n",
        "\n",
        "r2sq_arima = r2_score(test, predictions_arima, sample_weight=None, multioutput='uniform_average')\n",
        "print(\"R Square for ARIMA  =\\t\\t\\t\",r2sq_arima)\n"
      ],
      "execution_count": 0,
      "outputs": [
        {
          "output_type": "stream",
          "text": [
            "Root mean square for ARIMA =\t\t 1.4670763574038728\n",
            "R Square for ARIMA  =\t\t\t -2.8452512433744377\n"
          ],
          "name": "stdout"
        }
      ]
    },
    {
      "cell_type": "markdown",
      "metadata": {
        "id": "GKZl0laEFiIC",
        "colab_type": "text"
      },
      "source": [
        "# ***Hyperparameter tunning All possible values for p q d ***\n",
        "\n",
        "Select the Aic value from below output and use respective (p, q, d) value in above function for training."
      ]
    },
    {
      "cell_type": "code",
      "metadata": {
        "id": "GE_ybp9y0oqH",
        "colab_type": "code",
        "outputId": "c3cdb6ed-e5ff-436d-a5ff-b02fb2e6ac24",
        "colab": {
          "base_uri": "https://localhost:8080/",
          "height": 1000
        }
      },
      "source": [
        "# Varoius valoues of p  q. d \n",
        "import itertools\n",
        "p=d=q=range(0,5)\n",
        "pdq = list(itertools.product(p,d,q))\n",
        "import warnings\n",
        "warnings.filterwarnings('ignore')\n",
        "for param in pdq:\n",
        "    try:\n",
        "        model_arima = ARIMA(train,order=param)\n",
        "        model_arima_fit = model_arima.fit()\n",
        "        print(param,model_arima_fit.aic)\n",
        "    except:\n",
        "        continue"
      ],
      "execution_count": 0,
      "outputs": [
        {
          "output_type": "stream",
          "text": [
            "(0, 0, 0) 21289.893576840892\n",
            "(0, 0, 1) 12189.656258907782\n",
            "(0, 0, 2) 4573.935002023723\n",
            "(0, 0, 3) -1262.579633906851\n",
            "(0, 0, 4) -5566.070236795815\n",
            "(0, 1, 0) -27159.04244983851\n",
            "(0, 1, 1) -27850.84109299906\n",
            "(0, 1, 2) -27909.744859473944\n",
            "(0, 1, 3) -27987.37763193157\n",
            "(0, 1, 4) -28050.98389888623\n",
            "(0, 2, 0) -20558.9070468646\n",
            "(0, 2, 1) -27218.713829816043\n",
            "(1, 0, 0) -27155.78010648924\n",
            "(1, 0, 1) -27846.52009488677\n",
            "(1, 0, 2) -27905.536927502915\n",
            "(1, 0, 3) -27983.311465523322\n",
            "(1, 0, 4) -28047.05344879273\n",
            "(1, 1, 0) -27867.27849342844\n",
            "(1, 1, 1) -27887.623154772544\n",
            "(1, 1, 2) -28336.180894286084\n",
            "(1, 1, 3) -28334.7292579152\n",
            "(1, 1, 4) -28340.02525659581\n",
            "(1, 2, 0) -24063.57734160874\n",
            "(1, 2, 2) -28288.069133882505\n",
            "(1, 2, 3) -28283.37733731678\n",
            "(1, 2, 4) -28287.28069724208\n",
            "(2, 0, 0) -27863.135605285577\n",
            "(2, 0, 1) -27883.35627371804\n",
            "(2, 0, 2) -28339.218756331087\n",
            "(2, 0, 3) -28338.204511616626\n",
            "(2, 0, 4) -28345.058294740447\n",
            "(2, 1, 0) -27896.867889045596\n",
            "(2, 1, 1) -28157.736044137495\n",
            "(2, 1, 2) -28334.653967391267\n",
            "(2, 1, 3) -28332.180979454748\n",
            "(2, 1, 4) -28350.59580797514\n",
            "(2, 2, 0) -25636.25123857367\n",
            "(2, 2, 1) -27986.793235321253\n",
            "(2, 2, 2) -28293.50727170248\n",
            "(2, 2, 3) -28286.24650173085\n",
            "(2, 2, 4) -28279.069504335275\n",
            "(3, 0, 0) -27892.572325419467\n",
            "(3, 0, 1) -28168.706481454457\n",
            "(3, 0, 2) -28338.035754684337\n",
            "(3, 0, 3) -28335.235125439023\n",
            "(3, 0, 4) -28344.246916029435\n",
            "(3, 1, 0) -27907.47131207446\n",
            "(3, 1, 1) -28314.898373767715\n",
            "(3, 1, 2) -28337.298312817144\n",
            "(3, 1, 3) -28350.53905571972\n",
            "(3, 1, 4) -28343.881946991958\n",
            "(3, 2, 0) -26575.3399046426\n",
            "(3, 2, 1) -28299.63092002566\n",
            "(3, 2, 2) -28296.59851651107\n",
            "(3, 2, 3) -28295.14456078338\n",
            "(3, 2, 4) -28287.990093891953\n",
            "(4, 0, 0) -27903.273370197247\n",
            "(4, 0, 1) -28321.924424881494\n",
            "(4, 0, 2) -28341.425139984072\n",
            "(4, 0, 3) -28348.116285231452\n",
            "(4, 0, 4) -28346.086384169597\n",
            "(4, 1, 0) -27983.07202011956\n",
            "(4, 1, 1) -28342.974247400914\n",
            "(4, 1, 2) -28341.048459139372\n",
            "(4, 1, 3) -28344.51769213407\n",
            "(4, 1, 4) -28347.3765232857\n",
            "(4, 2, 0) -27139.071534616385\n",
            "(4, 2, 1) -28298.074442813595\n",
            "(4, 2, 2) -28295.81600955467\n",
            "(4, 2, 3) -28296.40388828871\n",
            "(4, 2, 4) -28295.73065865061\n"
          ],
          "name": "stdout"
        }
      ]
    },
    {
      "cell_type": "markdown",
      "metadata": {
        "id": "43w5xKQejy4g",
        "colab_type": "text"
      },
      "source": [
        "### ***LSTM FROM TENSORFLOW***"
      ]
    },
    {
      "cell_type": "code",
      "metadata": {
        "id": "9lrW9i-OW9YR",
        "colab_type": "code",
        "outputId": "dfd2319a-1fd8-4a3c-cc13-d4f57ced6042",
        "colab": {
          "base_uri": "https://localhost:8080/",
          "height": 214
        }
      },
      "source": [
        "import tensorflow as tf\n",
        "from tensorflow.keras.layers import Dense\n",
        "import matplotlib as mpl\n",
        "import matplotlib.pyplot as plt\n",
        "import numpy as np\n",
        "import os\n",
        "import pandas as pd\n",
        "\n",
        "\n",
        "\n",
        "mpl.rcParams['figure.figsize'] = (8, 6)\n",
        "mpl.rcParams['axes.grid'] = False\n",
        "\n",
        "path_m = path\n",
        "df = pd.read_csv(path_m)\n",
        "df.head()\n",
        "dates=df['date']\n",
        "temp= df['Temperature']\n",
        "print(temp)\n",
        "\n",
        "\n",
        "def univariate_data(dataset, start_index, end_index, history_size, target_size):\n",
        "  data = []\n",
        "  labels = []\n",
        "\n",
        "  start_index = start_index + history_size\n",
        "  if end_index is None:\n",
        "    end_index = len(dataset) - target_size\n",
        "\n",
        "  for i in range(start_index, end_index):\n",
        "    indices = range(i-history_size, i)\n",
        "    # Reshape data from (history_size,) to (history_size, 1)\n",
        "    data.append(np.reshape(dataset[indices], (history_size, 1)))\n",
        "    labels.append(dataset[i+target_size])\n",
        "  return np.array(data), np.array(labels)\n",
        "\n"
      ],
      "execution_count": 0,
      "outputs": [
        {
          "output_type": "stream",
          "text": [
            "0       21.7600\n",
            "1       21.7900\n",
            "2       21.7675\n",
            "3       21.7675\n",
            "4       21.7900\n",
            "         ...   \n",
            "9747    20.8150\n",
            "9748    20.8650\n",
            "9749    20.8900\n",
            "9750    20.8900\n",
            "9751    21.0000\n",
            "Name: Temperature, Length: 9752, dtype: float64\n"
          ],
          "name": "stdout"
        }
      ]
    },
    {
      "cell_type": "code",
      "metadata": {
        "id": "hm2eUGUVXzib",
        "colab_type": "code",
        "outputId": "40053bd6-c57e-4dd6-f338-e7d4e9b1ffb7",
        "colab": {
          "base_uri": "https://localhost:8080/",
          "height": 132
        }
      },
      "source": [
        "TRAIN_SPLIT = 6825\n",
        "#tf.random.set_seed(13)\n",
        "uni_data = df['Temperature']\n",
        "uni_data.index = df['date']\n",
        "uni_data.head()"
      ],
      "execution_count": 0,
      "outputs": [
        {
          "output_type": "execute_result",
          "data": {
            "text/plain": [
              "date\n",
              "2/11/2015 14:48    21.7600\n",
              "2/11/2015 14:49    21.7900\n",
              "2/11/2015 14:50    21.7675\n",
              "2/11/2015 14:51    21.7675\n",
              "2/11/2015 14:51    21.7900\n",
              "Name: Temperature, dtype: float64"
            ]
          },
          "metadata": {
            "tags": []
          },
          "execution_count": 9
        }
      ]
    },
    {
      "cell_type": "code",
      "metadata": {
        "id": "M6IFzSRCYAth",
        "colab_type": "code",
        "outputId": "9e12f3bc-a70a-4a13-cd16-f3a0d5963a1b",
        "colab": {
          "base_uri": "https://localhost:8080/",
          "height": 429
        }
      },
      "source": [
        "uni_data.plot(subplots=True)"
      ],
      "execution_count": 0,
      "outputs": [
        {
          "output_type": "execute_result",
          "data": {
            "text/plain": [
              "array([<matplotlib.axes._subplots.AxesSubplot object at 0x7fe9709c32b0>],\n",
              "      dtype=object)"
            ]
          },
          "metadata": {
            "tags": []
          },
          "execution_count": 10
        },
        {
          "output_type": "display_data",
          "data": {
            "image/png": "[encoded data removed]",
            "text/plain": [
              "<Figure size 576x432 with 1 Axes>"
            ]
          },
          "metadata": {
            "tags": []
          }
        }
      ]
    },
    {
      "cell_type": "code",
      "metadata": {
        "id": "zOBHDx5wYL7_",
        "colab_type": "code",
        "outputId": "dc040a8f-41ae-4b19-cb96-cf577d796f4e",
        "colab": {
          "base_uri": "https://localhost:8080/",
          "height": 33
        }
      },
      "source": [
        "uni_data = uni_data.values\n",
        "univariate_past_history = 20\n",
        "univariate_future_target = 0\n",
        "\n",
        "x_train_uni, y_train_uni = univariate_data(uni_data, 0, TRAIN_SPLIT,\n",
        "                                           univariate_past_history,\n",
        "                                           univariate_future_target)\n",
        "x_val_uni, y_val_uni = univariate_data(uni_data, TRAIN_SPLIT, None,\n",
        "                                       univariate_past_history,\n",
        "                                       univariate_future_target)\n",
        "x_train_uni.shape"
      ],
      "execution_count": 0,
      "outputs": [
        {
          "output_type": "execute_result",
          "data": {
            "text/plain": [
              "(6805, 20, 1)"
            ]
          },
          "metadata": {
            "tags": []
          },
          "execution_count": 11
        }
      ]
    },
    {
      "cell_type": "code",
      "metadata": {
        "id": "NQXNnbFHYZ82",
        "colab_type": "code",
        "outputId": "a08f08ca-f71e-404a-8a36-5b3c32e86c5b",
        "colab": {
          "base_uri": "https://localhost:8080/",
          "height": 412
        }
      },
      "source": [
        "print ('Single window of past history')\n",
        "print (x_train_uni[0])\n",
        "print ('\\n Target temperature to predict')\n",
        "print (y_train_uni[0])"
      ],
      "execution_count": 0,
      "outputs": [
        {
          "output_type": "stream",
          "text": [
            "Single window of past history\n",
            "[[21.76      ]\n",
            " [21.79      ]\n",
            " [21.7675    ]\n",
            " [21.7675    ]\n",
            " [21.79      ]\n",
            " [21.76      ]\n",
            " [21.79      ]\n",
            " [21.79      ]\n",
            " [21.79      ]\n",
            " [21.79      ]\n",
            " [21.79      ]\n",
            " [21.79      ]\n",
            " [21.79      ]\n",
            " [21.79      ]\n",
            " [21.79      ]\n",
            " [21.815     ]\n",
            " [21.815     ]\n",
            " [21.89      ]\n",
            " [21.79      ]\n",
            " [21.82333333]]\n",
            "\n",
            " Target temperature to predict\n",
            "21.865\n"
          ],
          "name": "stdout"
        }
      ]
    },
    {
      "cell_type": "code",
      "metadata": {
        "id": "RK-B7SG0YuRt",
        "colab_type": "code",
        "colab": {}
      },
      "source": [
        "def create_time_steps(length):\n",
        "  return list(range(-length, 0))\n",
        "  \n",
        "def show_plot(plot_data, delta, title):\n",
        "  labels = ['History', 'True Future', 'Model Prediction']\n",
        "  marker = ['.-', 'rx', 'go']\n",
        "  time_steps = create_time_steps(plot_data[0].shape[0])\n",
        "  if delta:\n",
        "    future = delta\n",
        "  else:\n",
        "    future = 0\n",
        "\n",
        "  plt.title(title)\n",
        "  for i, x in enumerate(plot_data):\n",
        "    if i:\n",
        "      plt.plot(future, plot_data[i], marker[i], markersize=10,\n",
        "               label=labels[i])\n",
        "    else:\n",
        "      plt.plot(time_steps, plot_data[i].flatten(), marker[i], label=labels[i])\n",
        "  plt.legend()\n",
        "  plt.xlim([time_steps[0], (future+5)*2])\n",
        "  plt.xlabel('Time-Step')\n",
        "  return plt"
      ],
      "execution_count": 0,
      "outputs": []
    },
    {
      "cell_type": "code",
      "metadata": {
        "id": "tJqO7pYzY3Eg",
        "colab_type": "code",
        "outputId": "8e0948b3-3578-42b5-e46d-980dffd00155",
        "colab": {
          "base_uri": "https://localhost:8080/",
          "height": 420
        }
      },
      "source": [
        "show_plot([x_train_uni[0], y_train_uni[0]], 0, 'Sample Example')"
      ],
      "execution_count": 0,
      "outputs": [
        {
          "output_type": "execute_result",
          "data": {
            "text/plain": [
              "<module 'matplotlib.pyplot' from '/usr/local/lib/python3.6/dist-packages/matplotlib/pyplot.py'>"
            ]
          },
          "metadata": {
            "tags": []
          },
          "execution_count": 14
        },
        {
          "output_type": "display_data",
          "data": {
            "image/png": "[encoded data removed]",
            "text/plain": [
              "<Figure size 576x432 with 1 Axes>"
            ]
          },
          "metadata": {
            "tags": []
          }
        }
      ]
    },
    {
      "cell_type": "code",
      "metadata": {
        "id": "4vapKcf_Y54j",
        "colab_type": "code",
        "colab": {}
      },
      "source": [
        "def baseline(history):\n",
        "  return np.mean(history)"
      ],
      "execution_count": 0,
      "outputs": []
    },
    {
      "cell_type": "code",
      "metadata": {
        "id": "hx23gHUdY-Yo",
        "colab_type": "code",
        "outputId": "e8ef3330-86a3-409f-bb47-915bdba52068",
        "colab": {
          "base_uri": "https://localhost:8080/",
          "height": 420
        }
      },
      "source": [
        "show_plot([x_train_uni[0], y_train_uni[0], baseline(x_train_uni[0])], 0,\n",
        "           'Baseline Prediction Example')"
      ],
      "execution_count": 0,
      "outputs": [
        {
          "output_type": "execute_result",
          "data": {
            "text/plain": [
              "<module 'matplotlib.pyplot' from '/usr/local/lib/python3.6/dist-packages/matplotlib/pyplot.py'>"
            ]
          },
          "metadata": {
            "tags": []
          },
          "execution_count": 16
        },
        {
          "output_type": "display_data",
          "data": {
            "image/png": "[encoded data removed]",
            "text/plain": [
              "<Figure size 576x432 with 1 Axes>"
            ]
          },
          "metadata": {
            "tags": []
          }
        }
      ]
    },
    {
      "cell_type": "code",
      "metadata": {
        "id": "YK48bondZA5t",
        "colab_type": "code",
        "colab": {}
      },
      "source": [
        "BATCH_SIZE = 256\n",
        "BUFFER_SIZE = 10000\n",
        "\n",
        "train_univariate = tf.data.Dataset.from_tensor_slices((x_train_uni, y_train_uni))\n",
        "train_univariate = train_univariate.cache().shuffle(BUFFER_SIZE).batch(BATCH_SIZE).repeat()\n",
        "\n",
        "val_univariate = tf.data.Dataset.from_tensor_slices((x_val_uni, y_val_uni))\n",
        "val_univariate = val_univariate.batch(BATCH_SIZE).repeat()"
      ],
      "execution_count": 0,
      "outputs": []
    },
    {
      "cell_type": "code",
      "metadata": {
        "id": "ZBhqMjiqZFAH",
        "colab_type": "code",
        "outputId": "9dec5641-df7f-4d77-b22b-96d8c8d5448a",
        "colab": {
          "base_uri": "https://localhost:8080/",
          "height": 280
        }
      },
      "source": [
        "simple_lstm_model = tf.keras.models.Sequential([\n",
        "    tf.keras.layers.LSTM(8, input_shape=x_train_uni.shape[-2:]),\n",
        "       \n",
        "\n",
        "    tf.keras.layers.Dense(4),\n",
        "        tf.keras.layers.Dense(2),\n",
        "            tf.keras.layers.Dense(1)    \n",
        "\n",
        "\n",
        "])\n",
        "#simple_lstm_model.add(Dense(2))\n",
        "simple_lstm_model.compile(optimizer='adam', loss='mae',metrics=[tf.keras.metrics.MeanAbsoluteError()])\n",
        "simple_lstm_model.summary()"
      ],
      "execution_count": 0,
      "outputs": [
        {
          "output_type": "stream",
          "text": [
            "Model: \"sequential\"\n",
            "_________________________________________________________________\n",
            "Layer (type)                 Output Shape              Param #   \n",
            "=================================================================\n",
            "lstm (LSTM)                  (None, 8)                 320       \n",
            "_________________________________________________________________\n",
            "dense (Dense)                (None, 4)                 36        \n",
            "_________________________________________________________________\n",
            "dense_1 (Dense)              (None, 2)                 10        \n",
            "_________________________________________________________________\n",
            "dense_2 (Dense)              (None, 1)                 3         \n",
            "=================================================================\n",
            "Total params: 369\n",
            "Trainable params: 369\n",
            "Non-trainable params: 0\n",
            "_________________________________________________________________\n"
          ],
          "name": "stdout"
        }
      ]
    },
    {
      "cell_type": "code",
      "metadata": {
        "id": "vcSnxi4GZIFR",
        "colab_type": "code",
        "outputId": "bd84992d-8071-4d8e-90ff-abb7b410924b",
        "colab": {
          "base_uri": "https://localhost:8080/",
          "height": 33
        }
      },
      "source": [
        "tf.executing_eagerly()\n",
        "for x, y in val_univariate.take(1):\n",
        "    print(simple_lstm_model.predict(x).shape)"
      ],
      "execution_count": 0,
      "outputs": [
        {
          "output_type": "stream",
          "text": [
            "(256, 1)\n"
          ],
          "name": "stdout"
        }
      ]
    },
    {
      "cell_type": "code",
      "metadata": {
        "id": "dSMrNmtnZLSt",
        "colab_type": "code",
        "outputId": "5992bf4b-a48c-4cc9-bf82-ae389cf5161c",
        "colab": {
          "base_uri": "https://localhost:8080/",
          "height": 346
        }
      },
      "source": [
        "EVALUATION_INTERVAL = 200\n",
        "EPOCHS = 10\n",
        "\n",
        "x=simple_lstm_model.fit(train_univariate, epochs=EPOCHS,\n",
        "                        \n",
        "                      steps_per_epoch=EVALUATION_INTERVAL,\n",
        "\n",
        "                      validation_data=val_univariate, validation_steps=50)\n"
      ],
      "execution_count": 0,
      "outputs": [
        {
          "output_type": "stream",
          "text": [
            "Epoch 1/10\n",
            "200/200 [==============================] - 2s 10ms/step - loss: 0.0331 - mean_absolute_error: 0.0331 - val_loss: 0.0236 - val_mean_absolute_error: 0.0238\n",
            "Epoch 2/10\n",
            "200/200 [==============================] - 2s 11ms/step - loss: 0.0325 - mean_absolute_error: 0.0325 - val_loss: 0.0372 - val_mean_absolute_error: 0.0372\n",
            "Epoch 3/10\n",
            "200/200 [==============================] - 2s 11ms/step - loss: 0.0323 - mean_absolute_error: 0.0323 - val_loss: 0.0328 - val_mean_absolute_error: 0.0330\n",
            "Epoch 4/10\n",
            "200/200 [==============================] - 2s 11ms/step - loss: 0.0296 - mean_absolute_error: 0.0297 - val_loss: 0.0316 - val_mean_absolute_error: 0.0317\n",
            "Epoch 5/10\n",
            "200/200 [==============================] - 2s 10ms/step - loss: 0.0311 - mean_absolute_error: 0.0311 - val_loss: 0.0310 - val_mean_absolute_error: 0.0311\n",
            "Epoch 6/10\n",
            "200/200 [==============================] - 2s 11ms/step - loss: 0.0304 - mean_absolute_error: 0.0304 - val_loss: 0.0237 - val_mean_absolute_error: 0.0238\n",
            "Epoch 7/10\n",
            "200/200 [==============================] - 2s 11ms/step - loss: 0.0286 - mean_absolute_error: 0.0286 - val_loss: 0.0330 - val_mean_absolute_error: 0.0331\n",
            "Epoch 8/10\n",
            "200/200 [==============================] - 2s 11ms/step - loss: 0.0299 - mean_absolute_error: 0.0299 - val_loss: 0.0272 - val_mean_absolute_error: 0.0273\n",
            "Epoch 9/10\n",
            "200/200 [==============================] - 2s 11ms/step - loss: 0.0293 - mean_absolute_error: 0.0293 - val_loss: 0.0246 - val_mean_absolute_error: 0.0247\n",
            "Epoch 10/10\n",
            "200/200 [==============================] - 2s 11ms/step - loss: 0.0431 - mean_absolute_error: 0.0429 - val_loss: 0.0608 - val_mean_absolute_error: 0.0609\n"
          ],
          "name": "stdout"
        }
      ]
    },
    {
      "cell_type": "code",
      "metadata": {
        "id": "x6hs4NiJb7CE",
        "colab_type": "code",
        "outputId": "69bc9c4a-d829-42de-b5d1-58e270416dcf",
        "colab": {
          "base_uri": "https://localhost:8080/",
          "height": 33
        }
      },
      "source": [
        "print(\"Average test loss: \", np.average(x.history['loss']))\n",
        "#x.history['loss']\n",
        "# 0.02. 300   10      8,1     # ok\n",
        "# 1.97  300.   10.      8,4,1.   \n",
        "# 1.0.  300    10      8,8,4,1\n",
        "#.      200.   10.     8,16,8,4,1\n",
        "\n",
        "# 1.5   300.   10.    8,8,1.   # Best\n",
        "\n",
        "# 0.03. 300.   10.    8,4,1.   # best\n",
        "# 0.03. 200.   10.    8,4,1.   # V .best\n",
        "# 0.17.  150.  10.    8,4,2,1. # V Best\n",
        "# 0.03.  200.  10.    8,4,2,1. # VV Best"
      ],
      "execution_count": 0,
      "outputs": [
        {
          "output_type": "stream",
          "text": [
            "Average test loss:  0.03198706805706024\n"
          ],
          "name": "stdout"
        }
      ]
    },
    {
      "cell_type": "code",
      "metadata": {
        "id": "_Syti1aeZOMT",
        "colab_type": "code",
        "outputId": "ce5f4421-70e6-4319-f460-3c1cc1575c1e",
        "colab": {
          "base_uri": "https://localhost:8080/",
          "height": 1000
        }
      },
      "source": [
        "\n",
        "\n",
        "for x, y in val_univariate.take(3):\n",
        "  plot = show_plot([x[0].numpy(), y[0].numpy(),\n",
        "                    simple_lstm_model.predict(x)[0]], 0, 'Simple LSTM model')\n",
        "  plot.show()"
      ],
      "execution_count": 0,
      "outputs": [
        {
          "output_type": "display_data",
          "data": {
            "image/png": "[encoded data removed]",
            "text/plain": [
              "<Figure size 576x432 with 1 Axes>"
            ]
          },
          "metadata": {
            "tags": []
          }
        },
        {
          "output_type": "display_data",
          "data": {
            "image/png": "[encoded data removed]",
            "text/plain": [
              "<Figure size 576x432 with 1 Axes>"
            ]
          },
          "metadata": {
            "tags": []
          }
        },
        {
          "output_type": "display_data",
          "data": {
            "image/png": "[encoded data removed]",
            "text/plain": [
              "<Figure size 576x432 with 1 Axes>"
            ]
          },
          "metadata": {
            "tags": []
          }
        }
      ]
    },
    {
      "cell_type": "code",
      "metadata": {
        "id": "JdHuaka6uCCQ",
        "colab_type": "code",
        "colab": {}
      },
      "source": [
        ""
      ],
      "execution_count": 0,
      "outputs": []
    }
  ]
}